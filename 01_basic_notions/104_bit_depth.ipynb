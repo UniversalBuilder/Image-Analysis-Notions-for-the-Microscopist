{
 "cells": [
  {
   "cell_type": "markdown",
   "metadata": {},
   "source": [
    "## 104/ Bit Depth\n",
    "\n",
    "The pixels have coordinates but also values. In the simple case of a grayscale image, each pixel has only one value.\n",
    "\n",
    "> *This value is often the intensity of the signal in the case of a fluorescence image.*\n",
    "\n",
    "The range of these values is depending on the bit depth chosen by the user or decided by the device used to produce the image.\n",
    "\n",
    "> *For example, a pixel of an 8-bit image has 2<sup>8</sup> or 256 possible values, ranging from 0 to 255.*\n",
    "\n",
    "**Here are several images with different bitdepth**"
   ]
  },
  {
   "cell_type": "code",
   "execution_count": 1,
   "metadata": {},
   "outputs": [
    {
     "data": {
      "image/png": "[encoded data removed]",
      "text/plain": [
       "<Figure size 1440x1440 with 5 Axes>"
      ]
     },
     "metadata": {
      "needs_background": "light"
     },
     "output_type": "display_data"
    }
   ],
   "source": [
    "import numpy as np\n",
    "import pandas as pd\n",
    "from skimage import io\n",
    "import matplotlib.pyplot as plt\n",
    "\n",
    "big_image = io.imread('images/first-instar-brain.tif')\n",
    "\n",
    "df_2bit = pd.DataFrame(np.random.randint(0,2,size=(10, 10)))\n",
    "df_4bit = pd.DataFrame(np.random.randint(0,16,size=(10, 10)))\n",
    "df_8bit = pd.DataFrame(np.random.randint(0,255,size=(10, 10)))\n",
    "df_12bit = pd.DataFrame(np.random.randint(0,2^12-1,size=(10, 10)))\n",
    "df_14bit = pd.DataFrame(np.random.randint(0,2^14-1,size=(10, 10)))\n",
    "\n",
    "fig = plt.figure(figsize=(20,20))\n",
    "\n",
    "fig.add_subplot(1,5,1)\n",
    "plt.title('2 Bits \\n 2 possible gray values')\n",
    "plt.imshow(df_2bit, cmap='gray')\n",
    "\n",
    "fig.add_subplot(1,5,2)\n",
    "plt.title('4 Bits \\n 16 possible gray values')\n",
    "plt.imshow(df_4bit,cmap='gray')\n",
    "\n",
    "fig.add_subplot(1,5,3)\n",
    "plt.title('8 Bits \\n 256 possible gray values')\n",
    "plt.imshow(df_8bit,cmap='gray')\n",
    "\n",
    "fig.add_subplot(1,5,4)\n",
    "plt.title('12 Bits \\n 4096 possible gray values')\n",
    "plt.imshow(df_12bit,cmap='gray')\n",
    "\n",
    "fig.add_subplot(1,5,5)\n",
    "plt.title('14 Bits \\n 16384 possible gray values')\n",
    "plt.imshow(df_14bit,cmap='gray');"
   ]
  },
  {
   "cell_type": "markdown",
   "metadata": {},
   "source": [
    "----\n",
    "**Here is an interactive example on bit depth**\n",
    "\n",
    "Notice the loss of information when decreasing from 16 bits to 1 bit. Use the menu to view the images with a different color palette.\n",
    "\n",
    "> *Unless you are using some very special display, you will not notice any differences between 12 and 16 bits using the standard gray levels color map*. \n",
    "\n",
    "> *You can select a different color map using the dropdown menu to better see the effect of decreasing the bit depth*.\n",
    "\n",
    "> *Generally computer monitors are able to display between 8 to 12 bits of color, but the human eye can barely notice any difference past 900 levels (around 10 bit) in optimal conditions anyways*.<sup>1</sup>"
   ]
  },
  {
   "cell_type": "code",
   "execution_count": 3,
   "metadata": {},
   "outputs": [
    {
     "data": {
      "application/vnd.jupyter.widget-view+json": {
       "model_id": "0c0b556f786e4d24b87a5347c1cf0326",
       "version_major": 2,
       "version_minor": 0
      },
      "text/plain": [
       "interactive(children=(Dropdown(description='Color Map', index=11, options=('gray', 'viridis', 'jet', 'hot', 'c…"
      ]
     },
     "metadata": {},
     "output_type": "display_data"
    }
   ],
   "source": [
    "from skimage import exposure\n",
    "from skimage.util import img_as_uint\n",
    "from ipywidgets import *\n",
    "\n",
    "df_16bit = np.random.randint(0,2**16-1,size=(50, 50))\n",
    "df_16bit.sort(axis=1)\n",
    "\n",
    "real_image = io.imread('./images/m51.tif')\n",
    "\n",
    "cmap_options = ['gray', 'viridis', 'jet', 'hot', 'coolwarm', 'seismic',\n",
    "           'terrain', 'bone', 'twilight', 'ocean', 'RdBu', 'nipy_spectral']\n",
    "\n",
    "def draw_fig_at_bit(c_map, bit):\n",
    "    df_bit = exposure.rescale_intensity(df_16bit, out_range=(0, 2**bit - 1))\n",
    "    real_image_bit = exposure.rescale_intensity(real_image, out_range=(0, 2**bit - 1))\n",
    "    fig = plt.figure(figsize=(15,10))\n",
    "    fig.add_subplot(1,2,1)\n",
    "    plt.title(f'Synthetic image \\n {bit} Bit(s) \\n {2**bit} possible gray values')\n",
    "    plt.imshow(df_bit, cmap=c_map,vmin=0, vmax=2**bit-1)\n",
    "    \n",
    "    fig.add_subplot(1,2,2)\n",
    "    plt.title(f'A native 16-bit image: the M51 galaxy \\n {bit} Bit(s) \\n {2**bit} possible gray values')\n",
    "    plt.imshow(real_image_bit, cmap=c_map,vmin=0, vmax=2**bit-1)\n",
    "\n",
    "interact(\n",
    "    draw_fig_at_bit,\n",
    "    bit = widgets.SelectionSlider(\n",
    "    options=[16,12,10,8,6,4,2,1],\n",
    "    value=16,\n",
    "    description='Bit depth: ',\n",
    "    disabled=False,\n",
    "    continuous_update=True,\n",
    "    orientation='horizontal',\n",
    "    readout=True\n",
    "),\n",
    "    c_map = widgets.Dropdown(options=cmap_options, value=cmap_options[11], description='Color Map'));"
   ]
  },
  {
   "cell_type": "markdown",
   "metadata": {},
   "source": [
    "<sup>1</sup> Kimpe, T., & Tuytschaever, T. (2007). *Increasing the number of gray shades in medical display systems--how much is enough?*. Journal of digital imaging, 20(4), 422–432. https://doi.org/10.1007/s10278-006-1052-3"
   ]
  }
 ],
 "metadata": {
  "kernelspec": {
   "display_name": "Python 3",
   "language": "python",
   "name": "python3"
  },
  "language_info": {
   "codemirror_mode": {
    "name": "ipython",
    "version": 3
   },
   "file_extension": ".py",
   "mimetype": "text/x-python",
   "name": "python",
   "nbconvert_exporter": "python",
   "pygments_lexer": "ipython3",
   "version": "3.7.7"
  },
  "toc": {
   "base_numbering": 1,
   "nav_menu": {},
   "number_sections": true,
   "sideBar": true,
   "skip_h1_title": true,
   "title_cell": "Table of Contents",
   "title_sidebar": "Contents",
   "toc_cell": false,
   "toc_position": {},
   "toc_section_display": true,
   "toc_window_display": true
  },
  "varInspector": {
   "cols": {
    "lenName": 16,
    "lenType": 16,
    "lenVar": 40
   },
   "kernels_config": {
    "python": {
     "delete_cmd_postfix": "",
     "delete_cmd_prefix": "del ",
     "library": "var_list.py",
     "varRefreshCmd": "print(var_dic_list())"
    },
    "r": {
     "delete_cmd_postfix": ") ",
     "delete_cmd_prefix": "rm(",
     "library": "var_list.r",
     "varRefreshCmd": "cat(var_dic_list()) "
    }
   },
   "types_to_exclude": [
    "module",
    "function",
    "builtin_function_or_method",
    "instance",
    "_Feature"
   ],
   "window_display": false
  }
 },
 "nbformat": 4,
 "nbformat_minor": 4
}
