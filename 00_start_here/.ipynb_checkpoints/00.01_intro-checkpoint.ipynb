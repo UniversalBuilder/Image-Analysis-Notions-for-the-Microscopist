{
 "cells": [
  {
   "cell_type": "markdown",
   "metadata": {},
   "source": [
    "[Back to the main menu of [00 START HERE] ](../README.md)"
   ]
  },
  {
   "cell_type": "markdown",
   "metadata": {
    "toc": true
   },
   "source": [
    "<h1>Table of Contents<span class=\"tocSkip\"></span></h1>\n",
    "<div class=\"toc\"><ul class=\"toc-item\"><li><span><a href=\"#The-bioimaging-&amp;-analysis-landscape\" data-toc-modified-id=\"The-bioimaging-&amp;-analysis-landscape-1\"><span class=\"toc-item-num\">1&nbsp;&nbsp;</span>The bioimaging &amp; analysis landscape</a></span></li><li><span><a href=\"#Some-definitions\" data-toc-modified-id=\"Some-definitions-2\"><span class=\"toc-item-num\">2&nbsp;&nbsp;</span>Some definitions</a></span><ul class=\"toc-item\"><li><span><a href=\"#Python-and-its-tools\" data-toc-modified-id=\"Python-and-its-tools-2.1\"><span class=\"toc-item-num\">2.1&nbsp;&nbsp;</span>Python and its tools</a></span><ul class=\"toc-item\"><li><span><a href=\"#Python\" data-toc-modified-id=\"Python-2.1.1\"><span class=\"toc-item-num\">2.1.1&nbsp;&nbsp;</span>Python</a></span></li><li><span><a href=\"#Jupyter-Notebooks\" data-toc-modified-id=\"Jupyter-Notebooks-2.1.2\"><span class=\"toc-item-num\">2.1.2&nbsp;&nbsp;</span>Jupyter Notebooks</a></span></li><li><span><a href=\"#Markdown\" data-toc-modified-id=\"Markdown-2.1.3\"><span class=\"toc-item-num\">2.1.3&nbsp;&nbsp;</span>Markdown</a></span></li><li><span><a href=\"#Git-and-GitHub\" data-toc-modified-id=\"Git-and-GitHub-2.1.4\"><span class=\"toc-item-num\">2.1.4&nbsp;&nbsp;</span>Git and GitHub</a></span></li></ul></li><li><span><a href=\"#Image-J,-Fiji-and-plugins\" data-toc-modified-id=\"Image-J,-Fiji-and-plugins-2.2\"><span class=\"toc-item-num\">2.2&nbsp;&nbsp;</span>Image J, Fiji and plugins</a></span><ul class=\"toc-item\"><li><span><a href=\"#Image-J\" data-toc-modified-id=\"Image-J-2.2.1\"><span class=\"toc-item-num\">2.2.1&nbsp;&nbsp;</span>Image J</a></span></li><li><span><a href=\"#Fiji\" data-toc-modified-id=\"Fiji-2.2.2\"><span class=\"toc-item-num\">2.2.2&nbsp;&nbsp;</span>Fiji</a></span></li><li><span><a href=\"#Plugins\" data-toc-modified-id=\"Plugins-2.2.3\"><span class=\"toc-item-num\">2.2.3&nbsp;&nbsp;</span>Plugins</a></span></li><li><span><a href=\"#Macros\" data-toc-modified-id=\"Macros-2.2.4\"><span class=\"toc-item-num\">2.2.4&nbsp;&nbsp;</span>Macros</a></span></li></ul></li><li><span><a href=\"#QuPath-and-its-macros\" data-toc-modified-id=\"QuPath-and-its-macros-2.3\"><span class=\"toc-item-num\">2.3&nbsp;&nbsp;</span>QuPath and its macros</a></span></li><li><span><a href=\"#CellProfiler\" data-toc-modified-id=\"CellProfiler-2.4\"><span class=\"toc-item-num\">2.4&nbsp;&nbsp;</span>CellProfiler</a></span></li></ul></li></ul></div>"
   ]
  },
  {
   "cell_type": "markdown",
   "metadata": {},
   "source": [
    "# Introduction"
   ]
  },
  {
   "cell_type": "markdown",
   "metadata": {},
   "source": [
    "This section explains how to use the many resources gathered here.\n",
    "\n",
    "If you're not already familiar with tools like *python*, *jupyter notebooks*, *markdown* files or *github* you will find a few hints and definitions to bootstrap your learning.\n",
    "\n",
    "But first it can be useful to have a bird's eye view on the bioimaging analysis landscape:"
   ]
  },
  {
   "cell_type": "markdown",
   "metadata": {},
   "source": [
    "## The bioimaging & analysis landscape\n",
    "\n",
    "Below is a MindManager interactive map (it will be updated). You can use the tool bars to navigate the map and zoom in or out.\n",
    "\n",
    "Explore the relationships and familiarize yourself with the diffrent packages and they are primarily used for."
   ]
  },
  {
   "cell_type": "code",
   "execution_count": 1,
   "metadata": {},
   "outputs": [
    {
     "data": {
      "text/html": [
       "\n",
       "        <iframe\n",
       "            width=\"1000\"\n",
       "            height=\"1024\"\n",
       "            src=\"./bioimaging_landscape_map.html\"\n",
       "            frameborder=\"0\"\n",
       "            allowfullscreen\n",
       "        ></iframe>\n",
       "        "
      ],
      "text/plain": [
       "<IPython.lib.display.IFrame at 0x1612daa9a08>"
      ]
     },
     "execution_count": 1,
     "metadata": {},
     "output_type": "execute_result"
    }
   ],
   "source": [
    "from IPython.display import IFrame\n",
    "\n",
    "IFrame(src='./bioimaging_landscape_map.html', width=1000, height=1024)"
   ]
  },
  {
   "cell_type": "markdown",
   "metadata": {},
   "source": [
    "NB: If the size of the figure is not convenient, you can also visualize the map in its own windows using [this link](./bioimaging_landscape_map.html)."
   ]
  },
  {
   "cell_type": "markdown",
   "metadata": {},
   "source": [
    "## Some definitions"
   ]
  },
  {
   "cell_type": "markdown",
   "metadata": {},
   "source": [
    "### Python and its tools"
   ]
  },
  {
   "cell_type": "markdown",
   "metadata": {},
   "source": [
    "#### Python\n",
    "\n",
    "**Python** is a programming language quite easy to learn. It is gaining more and more traction in the scientific community especially because of its tight integration with machine learning tools and its **free and open-source** approach compared to the likes of MATLAB.\n",
    "\n",
    "![Python Logo](../illustrations/python.png)\n",
    "\n",
    "**Strengths of Python :**\n",
    "\n",
    "- Easy to learn (simple syntax, close to MATLAB's)\n",
    "- Extended by very powerful **modules** like scikit-image for image processing, scikit-learn for machine learning, matplotlib for tracing diagrams and images.\n",
    "- Growing and dynamic community.\n",
    "- Strong presence in science and **data science**."
   ]
  },
  {
   "cell_type": "markdown",
   "metadata": {},
   "source": [
    "#### Jupyter Notebooks\n",
    "\n",
    "What you are currently reading is a **Jupyter Notebook**. It is a python script that is non linear: the python code is contained in cells and you can execute code independently in each cell, provided the necessary information (variable, imports) have been defined before.\n",
    "\n",
    "The notebook cells can contain code, but also be of other types of data like **Markdown text**:\n",
    "\n",
    "![Jupyter Notebook](../illustrations/jupyter_notebook.png)\n",
    "\n",
    "To learn more about how to get the most out of Jupyter Notebooks and Python, head to [00-02 Jupyter Notebooks](00.02_jupyter_notebooks.ipynb)"
   ]
  },
  {
   "cell_type": "markdown",
   "metadata": {},
   "source": [
    "#### Markdown\n",
    "\n",
    "**Markdown** is a small but very convenient declarative language to **enrich text files** with a few special characters. Jupyter makes extensive use of Markdown to annotate code and document what is actually going on in the notebook. This course is an example of it.\n",
    "\n",
    "*Example of Markdown syntax:*\n",
    "![Markdown syntax](../illustrations/markdown.png)\n",
    "\n",
    "For instance, this page is written using Markdown cells, saved in a `.md` file that can be read by several online packages like GitHub. \n",
    "\n",
    "Markdown is even integrated in some OSes like MacOS.\n",
    "\n",
    "To know more about Markdown, and the flavour used on GitHub and in these notebooks, head to :\n",
    "\n",
    "- [Mastering Markdown](https://guides.github.com/features/mastering-markdown/)\n",
    "- [Github flavoured Markdown](https://github.github.com/gfm/)\n",
    "- [Markdown CheatSheet](https://guides.github.com/pdfs/markdown-cheatsheet-online.pdf)"
   ]
  },
  {
   "cell_type": "markdown",
   "metadata": {},
   "source": [
    "#### Git and GitHub\n",
    "\n",
    "**Git** is in essence a piece of software that allows you to do **version control**. When developing scripts, macros and notebooks, but also simple word documents, it is essential to be able to follow what was done and have the possibility to revert back. \n",
    "\n",
    "It is also a very good tool to avoid messy nomenclatures like `file_1.txt`, `file_1.1.txt`, `file_1.1_final.txt`, `file_1.1_final_corrections.txt`, you get the idea.\n",
    "\n",
    "While git is essentially a simple command line tool that watches a specific folder on your computer, it can be tedious to use for people coming outside of the computer science world (like myself). To make the most out of Git, you should prefer **GitHub**.\n",
    "\n",
    "*GitHub web page:*\n",
    "\n",
    "![GitHub](../illustrations/github.png)\n",
    "\n",
    "**GitHub** is the online platform owned by Microsoft allowing you to view, manage and share your files watched by Git. Your files are organized in **repositories** which are special folders watched by Git.\n",
    "To simplify the management and allow seemless syncing of your files between GitHub and your local machine, you can and should install **GitHub Desktop**.\n",
    "\n",
    "*The GitHub Desktop interface:*\n",
    "\n",
    "![GitHub Desktop](../illustrations/github_desktop.png)\n",
    "\n",
    "GitHub will also allow you to **clone** repositories (make a copy) from someone else, create a **fork** to try variants of your code or someone else's, and merge it back into the **master branch** if the improvements are deemed valuable enough."
   ]
  },
  {
   "cell_type": "markdown",
   "metadata": {},
   "source": [
    "### Image J, Fiji and plugins\n",
    "\n",
    "#### Image J\n",
    "\n",
    "**ImageJ** is an open-source image processing and analysis program written by Wayne Rasband. Without getting too much into the details, **it is the *de facto* software package bioimage analysts go to** for any kind of work related to microscopy and image processing.\n",
    "\n",
    "It is written in java, is open-source and cross-platform, and can be extend by plugins also written in java. You can also write simpler macros in many languages like javascript, python (actually jython), and the native ImageJ1 macros.\n",
    "\n",
    "Image J is also used as an addon to other programs to fulfill the image processing part, or is the base these software are built on. \n",
    "\n",
    "#### Fiji\n",
    "\n",
    "**Fiji is ImageJ + a collection of plugins**. While ImageJ is quite barebone and offers great tools, there are no specialized functions that could be of great ehlp in certains domains like biology.\n",
    "\n",
    "Fiji is tailored for bioimage analysts as it regroups a lot of useful plugins and functions made for the biologist first. It includes several algorithms to analyze cells, track vesicles, and read many microscopy image formats.\n",
    "\n",
    "#### Plugins\n",
    "\n",
    "ImageJ plugins are small piece of software that can add functionality to ImageJ. They are **written in java** and packaged into a `.jar` file.\n",
    "\n",
    "You need to know how to program in java and use the ImageJ API in order to write plugins.\n",
    "\n",
    "#### Macros\n",
    "\n",
    "Macros are different than plugins since since they do not require complex packaging nor knowing the full java language, and can be **boiled down to a series of ImageJ** commands that help you automate repetitive tasks.\n",
    "\n",
    "Today the macro language has been enriched with many functions and can become as complex as plugins."
   ]
  },
  {
   "cell_type": "markdown",
   "metadata": {},
   "source": [
    "### QuPath and its macros\n",
    "\n",
    "While ImageJ is generally the best solution for many imaging questions, it is not well suited for large datasets and pyramidal file formats coming from slide scanners. QuPath is an open-source program **focussing on these very large images coming from slide scanners**. It has optimized algorithms to process these large files and has very advanced tools to identify cell types and tissue categories using machine learning.\n",
    "\n",
    "![QuPAth](../illustrations/qupath.png)\n",
    "\n",
    "It can interface with ImageJ (it comes bundled with a basic version), and record workflows using its history and program using advanced functions with the groovy language.\n",
    "\n",
    "Any command that is not implying human intervention (like hand drawing regions) and subsequent analysis can be recoreded, adapted and launched on a batch of files.\n",
    "\n",
    "![QuPAth](../illustrations/qupath_2.png)"
   ]
  },
  {
   "cell_type": "markdown",
   "metadata": {},
   "source": [
    "### CellProfiler\n",
    "\n",
    "CellProfiler, like QuPath, fills a void in the open-source bioimage analysis landscape. ImageJ nor QuPath are well suited when it comes to very large sets of small files coming from high-throughput systems.\n",
    "\n",
    "![CellProfiler](../illustrations/cellprofiler.png)\n",
    "\n",
    "This is the playing field in which CellProfiler gives the most value: by designing **pipelines** with batch-processing as the fundation, combined together with parametrable modules, you can rapidly create a whole processing and analysis workflow **without having to write complex code.**"
   ]
  },
  {
   "cell_type": "code",
   "execution_count": null,
   "metadata": {},
   "outputs": [],
   "source": []
  }
 ],
 "metadata": {
  "kernelspec": {
   "display_name": "Python 3",
   "language": "python",
   "name": "python3"
  },
  "language_info": {
   "codemirror_mode": {
    "name": "ipython",
    "version": 3
   },
   "file_extension": ".py",
   "mimetype": "text/x-python",
   "name": "python",
   "nbconvert_exporter": "python",
   "pygments_lexer": "ipython3",
   "version": "3.7.7"
  },
  "toc": {
   "base_numbering": 1,
   "nav_menu": {},
   "number_sections": true,
   "sideBar": true,
   "skip_h1_title": true,
   "title_cell": "Table of Contents",
   "title_sidebar": "Contents",
   "toc_cell": true,
   "toc_position": {},
   "toc_section_display": true,
   "toc_window_display": true
  },
  "varInspector": {
   "cols": {
    "lenName": 16,
    "lenType": 16,
    "lenVar": 40
   },
   "kernels_config": {
    "python": {
     "delete_cmd_postfix": "",
     "delete_cmd_prefix": "del ",
     "library": "var_list.py",
     "varRefreshCmd": "print(var_dic_list())"
    },
    "r": {
     "delete_cmd_postfix": ") ",
     "delete_cmd_prefix": "rm(",
     "library": "var_list.r",
     "varRefreshCmd": "cat(var_dic_list()) "
    }
   },
   "types_to_exclude": [
    "module",
    "function",
    "builtin_function_or_method",
    "instance",
    "_Feature"
   ],
   "window_display": false
  }
 },
 "nbformat": 4,
 "nbformat_minor": 4
}
