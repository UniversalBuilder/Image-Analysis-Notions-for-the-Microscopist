{
 "cells": [
  {
   "cell_type": "markdown",
   "metadata": {},
   "source": [
    "[Back to the main menu of [00 START HERE] ](/README.md)"
   ]
  },
  {
   "cell_type": "markdown",
   "metadata": {},
   "source": [
    "# Introduction"
   ]
  },
  {
   "cell_type": "markdown",
   "metadata": {},
   "source": [
    "This section explains how to use the many resources gathered here.\n",
    "\n",
    "If you're not already familiar with tools like *python*, *jupyter notebooks*, *markdown* files or *github* you will find a few hints and definitions to bootstrap your learning.\n",
    "\n",
    "But first it can be useful to have a bird's eye view on the bioimaging analysis landscape:"
   ]
  },
  {
   "cell_type": "markdown",
   "metadata": {},
   "source": [
    "## The bioimaging & analysis landscape\n",
    "\n",
    "Below is a MindManager interactive map (it will be updated). You can use the tool bars to navigate the map and zoom in or out.\n",
    "\n",
    "Explore the relationships and familiarize yourself with the diffrent packages and they are primarily used for."
   ]
  },
  {
   "cell_type": "code",
   "execution_count": 8,
   "metadata": {},
   "outputs": [
    {
     "data": {
      "text/html": [
       "\n",
       "        <iframe\n",
       "            width=\"1000\"\n",
       "            height=\"1024\"\n",
       "            src=\"./bioimaging_landscape_map.html\"\n",
       "            frameborder=\"0\"\n",
       "            allowfullscreen\n",
       "        ></iframe>\n",
       "        "
      ],
      "text/plain": [
       "<IPython.lib.display.IFrame at 0x27d4f427708>"
      ]
     },
     "execution_count": 8,
     "metadata": {},
     "output_type": "execute_result"
    }
   ],
   "source": [
    "from IPython.display import IFrame\n",
    "\n",
    "IFrame(src='./bioimaging_landscape_map.html', width=1000, height=1024)"
   ]
  },
  {
   "cell_type": "markdown",
   "metadata": {},
   "source": [
    "If the size of the figure is not convenient, you can also visualize the map in its own windows using [this link](./bioimaging_landscape_map.html)."
   ]
  },
  {
   "cell_type": "markdown",
   "metadata": {},
   "source": [
    "## Some definitions\n",
    "\n",
    "### Python and its tools\n",
    "\n",
    "**Python** : Python is a programming language quite easy to learn. It is gaining traction in the scientifiy community especially because of its tight integration with machine learning tools.\n",
    "\n",
    "Strengths of Python :\n",
    "\n",
    "- Easy to learn (simple syntax, close to MATLAB)\n",
    "- Extended by very powerful `modules` like scikit-image for image processing, scikit-learn for machine learning, matplotlib for tracing diagrams and images.\n",
    "- Growing and dynamic community.\n",
    "- Strong presence in science and data science.\n",
    "\n",
    "**Jupyter Notebooks** : What you are currently reading is a `Jupyter Notebook`. It is a python script that is non linear: you can execute code independently in each cell. The notebook cells can contain code but also be of other types like Markdown.\n",
    "\n"
   ]
  },
  {
   "cell_type": "code",
   "execution_count": null,
   "metadata": {},
   "outputs": [],
   "source": []
  }
 ],
 "metadata": {
  "kernelspec": {
   "display_name": "Python 3",
   "language": "python",
   "name": "python3"
  },
  "language_info": {
   "codemirror_mode": {
    "name": "ipython",
    "version": 3
   },
   "file_extension": ".py",
   "mimetype": "text/x-python",
   "name": "python",
   "nbconvert_exporter": "python",
   "pygments_lexer": "ipython3",
   "version": "3.7.7"
  },
  "toc": {
   "base_numbering": 1,
   "nav_menu": {},
   "number_sections": true,
   "sideBar": true,
   "skip_h1_title": true,
   "title_cell": "Table of Contents",
   "title_sidebar": "Contents",
   "toc_cell": false,
   "toc_position": {},
   "toc_section_display": true,
   "toc_window_display": true
  },
  "varInspector": {
   "cols": {
    "lenName": 16,
    "lenType": 16,
    "lenVar": 40
   },
   "kernels_config": {
    "python": {
     "delete_cmd_postfix": "",
     "delete_cmd_prefix": "del ",
     "library": "var_list.py",
     "varRefreshCmd": "print(var_dic_list())"
    },
    "r": {
     "delete_cmd_postfix": ") ",
     "delete_cmd_prefix": "rm(",
     "library": "var_list.r",
     "varRefreshCmd": "cat(var_dic_list()) "
    }
   },
   "types_to_exclude": [
    "module",
    "function",
    "builtin_function_or_method",
    "instance",
    "_Feature"
   ],
   "window_display": false
  }
 },
 "nbformat": 4,
 "nbformat_minor": 4
}
