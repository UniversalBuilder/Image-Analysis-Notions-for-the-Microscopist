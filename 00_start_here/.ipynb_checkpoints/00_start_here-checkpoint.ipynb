{
 "cells": [
  {
   "cell_type": "markdown",
   "metadata": {},
   "source": [
    "[Back to the main menu of [00 START HERE] ](../README.md)"
   ]
  },
  {
   "cell_type": "markdown",
   "metadata": {
    "toc": true
   },
   "source": [
    "<h1>Table of Contents<span class=\"tocSkip\"></span></h1>\n",
    "<div class=\"toc\"><ul class=\"toc-item\"><li><span><a href=\"#Scope-of-this-course\" data-toc-modified-id=\"Scope-of-this-course-1\"><span class=\"toc-item-num\">1&nbsp;&nbsp;</span>Scope of this course</a></span></li><li><span><a href=\"#The-bioimaging-analysis-process\" data-toc-modified-id=\"The-bioimaging-analysis-process-2\"><span class=\"toc-item-num\">2&nbsp;&nbsp;</span>The bioimaging analysis process</a></span></li><li><span><a href=\"#Overview-of-the-most-used-tools-in-the-domain\" data-toc-modified-id=\"Overview-of-the-most-used-tools-in-the-domain-3\"><span class=\"toc-item-num\">3&nbsp;&nbsp;</span>Overview of the most used tools in the domain</a></span><ul class=\"toc-item\"><li><span><a href=\"#Python-and-its-ecosystem\" data-toc-modified-id=\"Python-and-its-ecosystem-3.1\"><span class=\"toc-item-num\">3.1&nbsp;&nbsp;</span>Python and its ecosystem</a></span><ul class=\"toc-item\"><li><span><a href=\"#Python\" data-toc-modified-id=\"Python-3.1.1\"><span class=\"toc-item-num\">3.1.1&nbsp;&nbsp;</span>Python</a></span></li><li><span><a href=\"#Jupyter-Notebooks\" data-toc-modified-id=\"Jupyter-Notebooks-3.1.2\"><span class=\"toc-item-num\">3.1.2&nbsp;&nbsp;</span>Jupyter Notebooks</a></span></li><li><span><a href=\"#Markdown\" data-toc-modified-id=\"Markdown-3.1.3\"><span class=\"toc-item-num\">3.1.3&nbsp;&nbsp;</span>Markdown</a></span></li><li><span><a href=\"#Git-and-GitHub\" data-toc-modified-id=\"Git-and-GitHub-3.1.4\"><span class=\"toc-item-num\">3.1.4&nbsp;&nbsp;</span>Git and GitHub</a></span></li></ul></li><li><span><a href=\"#Image-J,-Fiji-and-plugins\" data-toc-modified-id=\"Image-J,-Fiji-and-plugins-3.2\"><span class=\"toc-item-num\">3.2&nbsp;&nbsp;</span>Image J, Fiji and plugins</a></span><ul class=\"toc-item\"><li><span><a href=\"#Image-J\" data-toc-modified-id=\"Image-J-3.2.1\"><span class=\"toc-item-num\">3.2.1&nbsp;&nbsp;</span>Image J</a></span></li><li><span><a href=\"#Fiji\" data-toc-modified-id=\"Fiji-3.2.2\"><span class=\"toc-item-num\">3.2.2&nbsp;&nbsp;</span>Fiji</a></span></li><li><span><a href=\"#Plugins\" data-toc-modified-id=\"Plugins-3.2.3\"><span class=\"toc-item-num\">3.2.3&nbsp;&nbsp;</span>Plugins</a></span></li><li><span><a href=\"#Macros\" data-toc-modified-id=\"Macros-3.2.4\"><span class=\"toc-item-num\">3.2.4&nbsp;&nbsp;</span>Macros</a></span></li></ul></li><li><span><a href=\"#QuPath\" data-toc-modified-id=\"QuPath-3.3\"><span class=\"toc-item-num\">3.3&nbsp;&nbsp;</span>QuPath</a></span></li><li><span><a href=\"#CellProfiler\" data-toc-modified-id=\"CellProfiler-3.4\"><span class=\"toc-item-num\">3.4&nbsp;&nbsp;</span>CellProfiler</a></span></li><li><span><a href=\"#Icy\" data-toc-modified-id=\"Icy-3.5\"><span class=\"toc-item-num\">3.5&nbsp;&nbsp;</span>Icy</a></span></li><li><span><a href=\"#Bio7\" data-toc-modified-id=\"Bio7-3.6\"><span class=\"toc-item-num\">3.6&nbsp;&nbsp;</span>Bio7</a></span></li></ul></li><li><span><a href=\"#Outcome\" data-toc-modified-id=\"Outcome-4\"><span class=\"toc-item-num\">4&nbsp;&nbsp;</span>Outcome</a></span></li><li><span><a href=\"#Feedback\" data-toc-modified-id=\"Feedback-5\"><span class=\"toc-item-num\">5&nbsp;&nbsp;</span>Feedback</a></span></li></ul></div>"
   ]
  },
  {
   "cell_type": "markdown",
   "metadata": {},
   "source": [
    "```\n",
    "Author : Yannick Krempp, Bioimage Analyst\n",
    "Cellular Imaging Facility (Lausanne, Switzerland)\n",
    "```"
   ]
  },
  {
   "cell_type": "markdown",
   "metadata": {},
   "source": [
    "# Preamble"
   ]
  },
  {
   "cell_type": "markdown",
   "metadata": {},
   "source": [
    "This section presents the many resources gathered in this course.\n",
    "\n",
    "If you're not already familiar with tools like *python*, *jupyter notebooks*, *markdown* files or *github* you will find further down this page a list of the most used tools in biominage analysis and a short description. Most of them will be seen in details in their dedicted chapter.\n",
    "\n",
    "First, to get a good overview of what is ahead, it is useful to have a bird's eye view on the typical bioimaging analysis process and the domain's landscape."
   ]
  },
  {
   "cell_type": "markdown",
   "metadata": {},
   "source": [
    "## Scope of this course\n",
    "\n",
    "Looking at the map above you can see that the bioimaging analysis domain is actually quite vast (*as is every domain once you get into the details*). \n",
    "\n",
    "The course will focus mostly on the **Development, Processing and Analysis** steps. When available, online courses, webinars, papers and websites will be cited.\n",
    "\n",
    "While the other steps will not be adressed directly, they will obviously influence the content of this material. For those interested in widening the scope, here are some resources on the other steps:\n",
    "\n",
    "|       Step      | Ressource                                         | Description                                                                                                       | Links                                                                                                                                                                                                                                                                                                               |\n",
    "|:---------------:|:---------------------------------------------------|:-------------------------------------------------------------------------------------------------------------------|:---------------------------------------------------------------------------------------------------------------------------------------------------------------------------------------------------------------------------------------------------------------------------------------------------------------------|\n",
    "|    **Ethics**   | \"In Defense of Image Data and Analysis Integrity\" | *Talk by Kota Miura for the NEUBIAS Academy @home*                                                                | [Youtube video](https://youtu.be/c_Oi2HKom_Y)<br>[NEUBIAS web page](http://eubias.org/NEUBIAS/training-schools/neubias-academy-home/)                                                                                                                                                                           |\n",
    "|                 | Guidelines                                        | *Example of guidelines by journals*                                                                               | [Nature Image Integrity](https://www.nature.com/nature-research/editorial-policies/image-integrity#microscopy)                                                                                                                                                                                                    |\n",
    "|                 | Paper                                             | *Paper by Douglas Cromey*                                                                                         | [Digital Images Are Data: And Should Be Treated as Such](https://www.ncbi.nlm.nih.gov/pmc/articles/PMC4210356/)                                                                                                                                                                                                   |\n",
    "| **Acquisition** | Microscopy primers by most of the manufacturers   | *Link to the related CIF website section*                                                                         | [CIF website > Microscopy Primers](https://cif.unil.ch/external-resources/#Primers_and_Knowledge_Bases)                                                                                                                                                                                                           |\n",
    "|  **Publishing** | Guidelines from the journals                      | *Each journal has a specific set of recommendations. Some examples.*                                              | [How to write a paper](https://www.scidev.net/global/publishing/practical-guide/how-do-i-write-a-scientific-paper-.html)<br>[Nature](https://www.nature.com/documents/nature-extended-data.pdf)<br>[Cell](https://els-jbs-prod-cdn.jbs.elsevierhealth.com/pb/assets/raw/shared/figureguidelines/GA_guide.pdf) |\n",
    "|  **Archiving**  | Documentation of the respective services          | *Links to the services manuals. Note : some of these services require an implementation at the university level.* | [Zenodo](https://about.zenodo.org/)<br>[Omero](https://www.openmicroscopy.org/omero/scientists/)<br>[IDR](https://idr.openmicroscopy.org/about/submission.html)<br>[Cytomine](https://doc.cytomine.org/Get%20Started%20V2?structure=UsersV2)                                                                |"
   ]
  },
  {
   "cell_type": "markdown",
   "metadata": {},
   "source": [
    "## The bioimaging analysis process\n",
    "\n",
    "Below is a MindManager interactive map of the whole bioimaging analysis workflow. It shows the various steps a typical bioimaging project goes through, and the tools, the methods and the multiple components used.\n",
    "\n",
    "**Explore the topics and their relationships**, and familiarize yourself with the different packages, what they are primarily used for, and what terms you should look for.\n",
    "\n",
    "The map contains **web links to the packages and their home page, or other useful content**. Don't hesitate to browse them and come back here later on.\n",
    "\n",
    "*You can use the tool bars to navigate the map, develop or contract branches, and zoom in or out. Use the link below the map to view it in a separate tab for better visualization.*"
   ]
  },
  {
   "cell_type": "code",
   "execution_count": 2,
   "metadata": {},
   "outputs": [
    {
     "data": {
      "text/html": [
       "\n",
       "        <iframe\n",
       "            width=\"990\"\n",
       "            height=\"1024\"\n",
       "            src=\"./bioimaging_25052020.html\"\n",
       "            frameborder=\"0\"\n",
       "            allowfullscreen\n",
       "        ></iframe>\n",
       "        "
      ],
      "text/plain": [
       "<IPython.lib.display.IFrame at 0x2bc1fcbfb88>"
      ]
     },
     "execution_count": 2,
     "metadata": {},
     "output_type": "execute_result"
    }
   ],
   "source": [
    "from IPython.display import IFrame\n",
    "\n",
    "IFrame(src='./bioimaging_25052020.html', width=990, height=1024)"
   ]
  },
  {
   "cell_type": "markdown",
   "metadata": {},
   "source": [
    "*NB: If the size of the figure is not convenient, you can also visualize the map in its own windows using [this link](./bioimaging_25052020.html).*"
   ]
  },
  {
   "cell_type": "markdown",
   "metadata": {},
   "source": [
    "## Overview of the most used tools in the domain\n",
    "\n",
    "If you're completely new to the domain, you have maybe never heard some terms, or are not really sure about what they are and what they are used for.\n",
    "\n",
    "Here's a **non exhaustive** list of the fundamental tools used in bioimaging analysis. You will see them in details in their respective section in the dedicated chapter."
   ]
  },
  {
   "cell_type": "markdown",
   "metadata": {},
   "source": [
    "### Python and its ecosystem"
   ]
  },
  {
   "cell_type": "markdown",
   "metadata": {},
   "source": [
    "#### Python\n",
    "\n",
    "**Python** is a programming language quite easy to learn. It is gaining more and more traction in the scientific community especially because of its tight integration with machine learning tools and its **free and open-source** approach compared to the likes of MATLAB.\n",
    "\n",
    "![Python Logo](../illustrations/python.png)\n",
    "\n",
    "**Strengths of Python :**\n",
    "\n",
    "- Easy to learn (simple syntax, close to MATLAB's)\n",
    "- Extended by very powerful **modules** like scikit-image for image processing, scikit-learn for machine learning, matplotlib for tracing diagrams and images.\n",
    "- Growing and dynamic community.\n",
    "- Strong presence in science and **data science**."
   ]
  },
  {
   "cell_type": "markdown",
   "metadata": {},
   "source": [
    "#### Jupyter Notebooks\n",
    "\n",
    "What you are currently reading is a **Jupyter Notebook**. It is a python script that is non linear: the python code is contained in cells and you can execute code independently in each cell, provided the necessary information (variable, imports) have been defined before.\n",
    "\n",
    "The notebook cells can contain code, but also be of other types of data like **Markdown text**:\n",
    "\n",
    "![Jupyter Notebook](../illustrations/jupyter_notebook.png)\n",
    "\n",
    "To learn more about how to get the most out of Jupyter Notebooks and Python, head to [00-02 Jupyter Notebooks](00.02_jupyter_notebooks.ipynb)"
   ]
  },
  {
   "cell_type": "markdown",
   "metadata": {},
   "source": [
    "#### Markdown\n",
    "\n",
    "**Markdown** is a small but very convenient declarative language to **enrich text files** with a few special characters. Jupyter makes extensive use of Markdown to annotate code and document what is actually going on in the notebook. This course is an example of it.\n",
    "\n",
    "*Example of Markdown syntax:*\n",
    "![Markdown syntax](../illustrations/markdown.png)\n",
    "\n",
    "For instance, this page is written using Markdown cells, saved in a `.md` file that can be read by several online packages like GitHub. \n",
    "\n",
    "Markdown is even integrated in some OSes like MacOS.\n",
    "\n",
    "To know more about Markdown, and the flavour used on GitHub and in these notebooks, head to :\n",
    "\n",
    "- [Mastering Markdown](https://guides.github.com/features/mastering-markdown/)\n",
    "- [Github flavoured Markdown](https://github.github.com/gfm/)\n",
    "- [Markdown CheatSheet](https://guides.github.com/pdfs/markdown-cheatsheet-online.pdf)"
   ]
  },
  {
   "cell_type": "markdown",
   "metadata": {},
   "source": [
    "#### Git and GitHub\n",
    "\n",
    "**Git** is in essence a piece of software that allows you to do **version control**. When developing scripts, macros and notebooks, but also simple word documents, it is essential to be able to follow what was done and have the possibility to revert back. \n",
    "\n",
    "It is also a very good tool to avoid messy nomenclatures like `file_1.txt`, `file_1.1.txt`, `file_1.1_final.txt`, `file_1.1_final_corrections.txt`, you get the idea.\n",
    "\n",
    "While git is essentially a simple command line tool that watches a specific folder on your computer, it can be tedious to use for people coming outside of the computer science world (like myself). To make the most out of Git, you should prefer **GitHub**.\n",
    "\n",
    "*GitHub web page:*\n",
    "\n",
    "![GitHub](../illustrations/github.png)\n",
    "\n",
    "**GitHub** is the online platform owned by Microsoft allowing you to view, manage and share your files watched by Git. Your files are organized in **repositories** which are special folders watched by Git.\n",
    "To simplify the management and allow seemless syncing of your files between GitHub and your local machine, you can and should install **GitHub Desktop**.\n",
    "\n",
    "*The GitHub Desktop interface:*\n",
    "\n",
    "![GitHub Desktop](../illustrations/github_desktop.png)\n",
    "\n",
    "GitHub will also allow you to **clone** repositories (make a copy) from someone else, create a **fork** to try variants of your code or someone else's, and merge it back into the **master branch** if the improvements are deemed valuable enough."
   ]
  },
  {
   "cell_type": "markdown",
   "metadata": {},
   "source": [
    "### Image J, Fiji and plugins\n",
    "\n",
    "#### Image J\n",
    "\n",
    "**ImageJ** is an open-source image processing and analysis program written by Wayne Rasband. Without getting too much into the details, **it is the *de facto* software package bioimage analysts go to** for any kind of work related to microscopy and image processing.\n",
    "\n",
    "It is written in java, is open-source and cross-platform, and can be extend by plugins also written in java. You can also write simpler macros in many languages like javascript, python (actually jython), and the native ImageJ1 macros.\n",
    "\n",
    "Image J is also used as an addon to other programs to fulfill the image processing part, or is the base these software are built on. \n",
    "\n",
    "#### Fiji\n",
    "\n",
    "**Fiji is ImageJ + a collection of plugins**. While ImageJ is quite barebone and offers great tools, there are no specialized functions that could be of great ehlp in certains domains like biology.\n",
    "\n",
    "Fiji is tailored for bioimage analysts as it regroups a lot of useful plugins and functions made for the biologist first. It includes several algorithms to analyze cells, track vesicles, and read many microscopy image formats.\n",
    "\n",
    "#### Plugins\n",
    "\n",
    "ImageJ plugins are small piece of software that can add functionality to ImageJ. They are **written in java** and packaged into a `.jar` file.\n",
    "\n",
    "You need to know how to program in java and use the ImageJ API in order to write plugins.\n",
    "\n",
    "#### Macros\n",
    "\n",
    "Macros are different than plugins since since they do not require complex packaging nor knowing the full java language, and can be **boiled down to a series of ImageJ** commands that help you automate repetitive tasks.\n",
    "\n",
    "Today the macro language has been enriched with many functions and can become as complex as plugins."
   ]
  },
  {
   "cell_type": "markdown",
   "metadata": {},
   "source": [
    "### QuPath\n",
    "\n",
    "While ImageJ is generally the best solution for many imaging questions, it is not well suited for large datasets and pyramidal file formats coming from slide scanners. QuPath is an open-source program **focussing on these very large images coming from slide scanners**. It has optimized algorithms to process these large files and has very advanced tools to identify cell types and tissue categories using machine learning.\n",
    "\n",
    "![QuPAth](../illustrations/qupath.png)\n",
    "\n",
    "It can interface with ImageJ (it comes bundled with a basic version), and record workflows using its history and program using advanced functions with the groovy language.\n",
    "\n",
    "Any command that is not implying human intervention (like hand drawing regions) and subsequent analysis can be recoreded, adapted and launched on a batch of files.\n",
    "\n",
    "![QuPAth](../illustrations/qupath_2.png)"
   ]
  },
  {
   "cell_type": "markdown",
   "metadata": {},
   "source": [
    "### CellProfiler\n",
    "\n",
    "CellProfiler, like QuPath, fills a void in the open-source bioimage analysis landscape. ImageJ nor QuPath are well suited when it comes to very large sets of small files coming from high-throughput systems.\n",
    "\n",
    "![CellProfiler](../illustrations/cellprofiler.png)\n",
    "\n",
    "This is the playing field in which CellProfiler gives the most value: by designing **pipelines** with batch-processing as the fundation, combined together with parametrable modules, you can rapidly create a whole processing and analysis workflow **without having to write complex code.**"
   ]
  },
  {
   "cell_type": "markdown",
   "metadata": {},
   "source": [
    "### Icy\n",
    "\n",
    "Icy is targeted towards newcomers and is designed to be an all-in-one solution, for scientists that do not really know how to program, or are not familiar with image processing.\n",
    "\n",
    "![Icy](../illustrations/icy.png)\n",
    "\n",
    "Compared to another general purpose package like ImageJ, Icy tries to put the **focus on the workflows and specific applications** instead of giving you access to a huge list of components, left up to you to assemble in a meaningful workflow.\n",
    "\n",
    "Among the main interests of Icy, there's a very **advanced image viewer** based on VTK 3D, a **node-based graphical programming interface**, and an **integrated \"store\" for plugins** (they're all free, and all come with the same design language and documentation).\n",
    "\n",
    "Icy also includes ImageJ directly as a tab to send back and forth data for basic processing and filtering."
   ]
  },
  {
   "cell_type": "markdown",
   "metadata": {},
   "source": [
    "### Bio7\n",
    "\n",
    "Bio7 is a complete set of features based on the Eclipse IDE, written in Java and uses analysis in the R language.\n",
    "\n",
    "While Icy tries to be a turnkey solution, Bio7 is on the contrary the **ultimate toolbox**.\n",
    "\n",
    "![bio7-0](../illustrations/bio7_0.png)\n",
    "\n",
    "Eclipse is an open-source integrated development environment (IDE) for programming in Java and other languages via plugins. Bio7 turns it into an IDE for environmental modeling studies. \n",
    "\n",
    "It **includes ImageJ** for the image processing needs, but the main interest of Bio7 is to develop code and models to simulate ecosystems based on the datasets, and do all the subsequent statistical analysis using R.\n",
    "\n",
    "![bio7-2](../illustrations/bio7_2.png)\n",
    "\n",
    "The learning curve is quite steep since **you have to know at least the Java and R programming languages in addition to image processing with ImageJ**, and the focus on ecology microscopists may not be familiar with. Nevertheless, for advanced users it can provide a very nice set of tools to do a complete analysis using just this one package."
   ]
  },
  {
   "cell_type": "markdown",
   "metadata": {},
   "source": [
    "## Outcome\n",
    "\n",
    "Now that we have seen some of the most used tools in the domain, what's in for you ? **What's the purpose of this course ?** I will try to answer this question which is linked to the origin of this course (*if you're in a hurry you can skip this part and jump to the list below*):\n",
    "\n",
    "---\n",
    "\n",
    "When I started writing this set of notebooks, my intent was first to share a few basic notions to explain some of the steps used in the Python scripts I was building.\n",
    "\n",
    "I quickly realized I should start from the beginning since many of the researchers I see have very little knowledge on what to do with their images. Moreover, the whole landscape of bioimage analysis is getting richer each day, with new tools arriving regularly and shaking up the establishment like ready-to-use deep learning models.\n",
    "\n",
    "When I looked for where to point someone looking to learn and do bioimaging analyses, I couldn't find a satifying answer. Either the resources where much too specific (*very detailed instructions for one tool*), or just too broad (*if you look for image processing on the web you're likely to find anything from computer vision related books and courses to Photoshop tutorials for makeup artists*). \n",
    "\n",
    "So I decided to try to gather the best resources available, enrich them if needed, fill the voids if any, and package everything in a nice format. This is what you're looking at right now. \n",
    "\n",
    "---\n",
    "\n",
    "**In this course I will adress the following topics:**\n",
    "\n",
    "- 01 / Basic notions of what is a digital image and how to handle it\n",
    "- 02 / Detailed resources to learn and use the most popular tools in the domain\n",
    "- 03 / Common workflows and use cases\n",
    "- 04 / Theory and advanced notions in bioimage processing\n",
    "- 05 / Useful tips\n",
    "\n",
    "Use this link to go to the main menu: [Main menu](../README.md)"
   ]
  },
  {
   "cell_type": "markdown",
   "metadata": {},
   "source": [
    "## Feedback\n",
    "\n",
    "This course being what it is, it's a permament work in progress. I'm always happy to get feedback and useful insights. If you think you have something that could to contribute to this course or just spotted an error, feel free to contact me via email at [yannick.krempp@unil.ch](mailto:yannick.krempp@unil.ch)"
   ]
  },
  {
   "cell_type": "code",
   "execution_count": null,
   "metadata": {},
   "outputs": [],
   "source": []
  }
 ],
 "metadata": {
  "kernelspec": {
   "display_name": "Python 3",
   "language": "python",
   "name": "python3"
  },
  "language_info": {
   "codemirror_mode": {
    "name": "ipython",
    "version": 3
   },
   "file_extension": ".py",
   "mimetype": "text/x-python",
   "name": "python",
   "nbconvert_exporter": "python",
   "pygments_lexer": "ipython3",
   "version": "3.7.7"
  },
  "toc": {
   "base_numbering": 1,
   "nav_menu": {},
   "number_sections": true,
   "sideBar": true,
   "skip_h1_title": true,
   "title_cell": "Table of Contents",
   "title_sidebar": "Contents",
   "toc_cell": true,
   "toc_position": {},
   "toc_section_display": true,
   "toc_window_display": true
  },
  "varInspector": {
   "cols": {
    "lenName": 16,
    "lenType": 16,
    "lenVar": 40
   },
   "kernels_config": {
    "python": {
     "delete_cmd_postfix": "",
     "delete_cmd_prefix": "del ",
     "library": "var_list.py",
     "varRefreshCmd": "print(var_dic_list())"
    },
    "r": {
     "delete_cmd_postfix": ") ",
     "delete_cmd_prefix": "rm(",
     "library": "var_list.r",
     "varRefreshCmd": "cat(var_dic_list()) "
    }
   },
   "types_to_exclude": [
    "module",
    "function",
    "builtin_function_or_method",
    "instance",
    "_Feature"
   ],
   "window_display": false
  }
 },
 "nbformat": 4,
 "nbformat_minor": 4
}
